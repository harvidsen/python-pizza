{
    "cells": [
        {
            "cell_type": "code",
            "execution_count": null,
            "metadata": {},
            "outputs": [],
            "source": [
                "import pandas as pd\n",
                "import seaborn as sns\n",
                "import matplotlib.pyplot as plt\n",
                "import os\n",
                "print(os.getcwd())"
            ]
        },
        {
            "cell_type": "markdown",
            "metadata": {},
            "source": [
                "Etter å ha importert biblioteket `pandas`, et bibliotek for databehandling, så vil vi lese inn data. Det gjer vi gjennom pandas.read_csv()."
            ]
        },
        {
            "cell_type": "code",
            "execution_count": null,
            "metadata": {},
            "outputs": [],
            "source": [
                "# Load datasets\n",
                "df_gen1 = pd.read_csv(\"Plant_1_Generation_Data.csv\", index_col=\"DATE_TIME\")\n",
                "df_weather1 = pd.read_csv(\"Plant_1_Weather_Sensor_Data.csv\", index_col=\"DATE_TIME\")\n",
                "#df_gen2 = pd.read_csv(\"Plant_2_Generation_Data.csv\")\n",
                "#df_weather2 = pd.read_csv(\"Plant_2_Weather_Sensor_Data.csv\")"
            ]
        },
        {
            "cell_type": "markdown",
            "metadata": {},
            "source": [
                "Etter å ha lest inn via `read_csv()` med argumentet `index_col=\"DATE_TIME\"` så blir kolonnen `DATE_TIME` indeksen i vår DataFrame. Det vil si at tabellen (DataFrame) er indeksert etter en DATE_TIME-verdi for hver rad. Dessverre så har ikke pandas automatisk forstått at dette er tidsstempel, så vi må manuelt spesifisere at dette ikke er råtekst men heller tidsstempel (såkalt `datetime` eller `timestamp`). Det gjør vi her:   "
            ]
        },
        {
            "cell_type": "code",
            "execution_count": null,
            "metadata": {},
            "outputs": [],
            "source": [
                "print(\"Index type prior to to_datetime(): \", type(df_gen1.index))\n",
                "df_gen1.index = pd.to_datetime(df_gen1.index, format='%d-%m-%Y %H:%M')\n",
                "print(\"Index type after to_datetime(): \", type(df_gen1.index))"
            ]
        },
        {
            "cell_type": "markdown",
            "metadata": {},
            "source": [
                "Nå kan vi plotte dataene i dette datasettet og få tid langs x-aksen. "
            ]
        },
        {
            "cell_type": "code",
            "execution_count": null,
            "metadata": {},
            "outputs": [],
            "source": [
                "df_gen1.plot()"
            ]
        },
        {
            "cell_type": "markdown",
            "metadata": {},
            "source": [
                "Dette var jo ikke noe gøy... Hva om vi kun velger å se på `AC_POWER` og `DC_POWER`?"
            ]
        },
        {
            "cell_type": "code",
            "execution_count": null,
            "metadata": {},
            "outputs": [],
            "source": [
                "df_dropped = df_gen1.drop(labels=[\"PLANT_ID\", \"DAILY_YIELD\", \"TOTAL_YIELD\"], axis=1)\n",
                "#df_gen1.plot(y=['AC_POWER', 'DC_POWER'], figsize=(10,5), grid=True)\n",
                "df_dropped.plot()"
            ]
        },
        {
            "cell_type": "markdown",
            "metadata": {},
            "source": [
                "Nå ser det ut som det gir litt mening i alle fall! `AC_POWER` har dog mye lavere verdier enn `DC_POWER`. Kanskje vi kan plotte de på 2 ulike y-akser? \n",
                "\n",
                "UTFORDRING: plott på 2 ulike y-akser\n",
                "\n",
                "Nå har jeg lyst å plotte kun de 1000 siste verdiene i datasettet. "
            ]
        },
        {
            "cell_type": "code",
            "execution_count": null,
            "metadata": {},
            "outputs": [],
            "source": [
                "df_dropped.iloc[-1000:].plot()"
            ]
        },
        {
            "cell_type": "markdown",
            "metadata": {},
            "source": [
                "Gøy! Vi ser det var lett å plotte de 1000 siste verdiene. Hva om jeg har lyst å plotte de første 48 timene istedet, og kun 1 verdi per time? Da kan vi bruke `resample` for å endre oppløsningen på dataene, og så plotte de 48 siste verdiene. Som følgeR:"
            ]
        },
        {
            "cell_type": "code",
            "execution_count": null,
            "metadata": {},
            "outputs": [],
            "source": [
                "df_dropped.resample(\"H\").mean().iloc[:48].plot()"
            ]
        },
        {
            "cell_type": "markdown",
            "metadata": {},
            "source": [
                "### UTFORDRING \n",
                "Forklar naboen din hva som skjer i hvert av funksjonskallene ovenfor.\n",
                "\n",
                "## Andre funksjoner i Pandas\n",
                "Vi har nå sett litt på plotting. `pandas` og tilsvarende biblioteker har ofte en hel haug med hjelpefunksjoner, noen eksempler er gitt nedenfor. \n",
                "\n",
                "### UTFORDRING\n",
                "Hva er snittverdien på `AC_POWER` de første 48 timene i datasettet? (hint: bruk det som har vært vist ovenfor, og en av hjelpefunksjonene nedenfor)"
            ]
        },
        {
            "cell_type": "code",
            "execution_count": null,
            "metadata": {},
            "outputs": [],
            "source": [
                "#df_gen1  # Denne viser datasettet uten noen filtrering eller utregninger\n",
                "#df_gen1.info()\n",
                "#df_gen1.describe()\n",
                "#df_gen1.head()\n",
                "#df_gen1.tail()"
            ]
        },
        {
            "cell_type": "markdown",
            "metadata": {},
            "source": [
                "Husk at det er ingen skam i å Google! Som programmerer så googler man ting heile tida. \n",
                "\n",
                "Andre oppgaver å se på: \n",
                "\n",
                "- Plott de siste 7 dagene for hvert kvarter med produksjon (både AC og DC-effekt)\n",
                "- Fjern alle rader i tabellen hvor AC eller DC-produksjon er lik 0 (kanskje det her [Google-søket](https://www.google.com/search?hl=en&q=pandas%20filter%20rows%20by%20condition) kan hjelpe)\n",
                "- Endre namn på kolonner frå AC_POWER og DC_POWER til \"Effekt, AC\" og \"Effekt, DC\" (Google!)\n"
            ]
        }
    ],
    "metadata": {
        "interpreter": {
            "hash": "b01f120c000252bcf845420ab5828e1bdf9c0961740ced60f0a10d07dd5e9b92"
        },
        "kernelspec": {
            "display_name": "Python 3.8.0 64-bit ('venv': venv)",
            "name": "python3"
        },
        "language_info": {
            "codemirror_mode": {
                "name": "ipython",
                "version": 3
            },
            "file_extension": ".py",
            "mimetype": "text/x-python",
            "name": "python",
            "nbconvert_exporter": "python",
            "pygments_lexer": "ipython3",
            "version": "3.8.0"
        },
        "orig_nbformat": 4
    },
    "nbformat": 4,
    "nbformat_minor": 2
}
